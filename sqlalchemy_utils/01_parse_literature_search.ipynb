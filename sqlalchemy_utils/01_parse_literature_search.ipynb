{
 "cells": [
  {
   "cell_type": "markdown",
   "metadata": {},
   "source": [
    "**Insert from the CSV file data**"
   ]
  },
  {
   "cell_type": "code",
   "execution_count": null,
   "metadata": {},
   "outputs": [],
   "source": [
    "import os\n",
    "import pandas as pd\n",
    "import json\n",
    "from tqdm import tqdm\n",
    "\n",
    "if os.getcwd().endswith('sqlalchemy_utils'):\n",
    "    os.chdir('..')\n",
    "\n",
    "from sqlalchemy_utils.db_session import get_session\n",
    "from sqlalchemy_utils.models_sqlalchemy_orm import CaseReport\n",
    "from sqlalchemy_utils.db_utils import insert_case_report_from_json\n",
    "\n",
    "tqdm.pandas()\n",
    "\n",
    "session = get_session()\n",
    "\n",
    "df = pd.read_csv('pubmed_search/combined_results_only_succesful_downloads.csv')\n",
    "df['inserted_into_db'] = df['json_path'].progress_apply(lambda x: insert_case_report_from_json(x, session))\n",
    "\n",
    "session.close()"
   ]
  },
  {
   "cell_type": "markdown",
   "metadata": {},
   "source": [
    "**Check if Case Reports are actually in DB**"
   ]
  },
  {
   "cell_type": "code",
   "execution_count": 13,
   "metadata": {},
   "outputs": [
    {
     "name": "stdout",
     "output_type": "stream",
     "text": [
      "Arousal and Regulatory Systems Consciousness coma\n"
     ]
    }
   ],
   "source": [
    "import os\n",
    "\n",
    "if os.getcwd().endswith('sqlalchemy_utils'):\n",
    "    os.chdir('..')\n",
    "\n",
    "from sqlalchemy_utils.db_session import get_session\n",
    "from sqlalchemy_utils.models_sqlalchemy_orm import CaseReport, Symptom, Domain\n",
    "\n",
    "# count = session.query(CaseReport).count()\n",
    "# # Find all case reports were case_report.symptom.domain.name is 'anxiety'\n",
    "# anxiety_cases = session.query(CaseReport).filter(CaseReport.symptoms.any(Symptom.domain.has(Domain.id == 10))).all()\n",
    "# for case in anxiety_cases:\n",
    "#     print(case)\n",
    "\n",
    "# Random case reports:\n",
    "case_report = session.query(CaseReport).first()\n",
    "symptoms = case_report.symptoms\n",
    "for symptom in symptoms:\n",
    "    print(symptom.domain.name, symptom.subdomain.name, symptom.name)"
   ]
  }
 ],
 "metadata": {
  "kernelspec": {
   "display_name": "django_env",
   "language": "python",
   "name": "python3"
  },
  "language_info": {
   "codemirror_mode": {
    "name": "ipython",
    "version": 3
   },
   "file_extension": ".py",
   "mimetype": "text/x-python",
   "name": "python",
   "nbconvert_exporter": "python",
   "pygments_lexer": "ipython3",
   "version": "3.12.4"
  }
 },
 "nbformat": 4,
 "nbformat_minor": 2
}
