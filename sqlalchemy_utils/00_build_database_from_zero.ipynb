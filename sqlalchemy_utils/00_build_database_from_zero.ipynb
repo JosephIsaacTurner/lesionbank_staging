{
 "cells": [
  {
   "cell_type": "markdown",
   "metadata": {},
   "source": [
    "**Imports**\n",
    "\n",
    "To rebuild the database completely from scratch:\n",
    "1. Delete \"db.sqlite3\" file\n",
    "2. Delete migrations files\n",
    "3. Run: `python manage.py makemigrations`\n",
    "4. Run: `python manage.py migrate`\n",
    "5. Run: The following cell"
   ]
  },
  {
   "cell_type": "code",
   "execution_count": 2,
   "metadata": {},
   "outputs": [
    {
     "name": "stdout",
     "output_type": "stream",
     "text": [
      "User with username 'josephturner' or email 'jiturner@bwh.harvard.edu' already exists. Skipping.\n",
      "User with username 'mikefox' or email 'mdfox@bwh.harvard.edu' already exists. Skipping.\n",
      "User with username 'michaelferguson' or email 'mferguson7@bwh.harvard.edu' already exists. Skipping.\n",
      "User with username 'fredschaper' or email 'fschaper@bwh.harvard.edu' already exists. Skipping.\n",
      "User with username 'jarednielsen' or email 'jarednielsen@byu.edu' already exists. Skipping.\n",
      "User with username 'mengyuanding' or email 'mding3@bwh.harvard.edu' already exists. Skipping.\n",
      "There are now 9 causes in the database.\n",
      "There are now 6 domains in the database.\n",
      "There are now 32 subdomains in the database.\n",
      "There are now 100 symptoms in the database.\n",
      "There are now 449 synonyms in the database.\n",
      "There are now 108 mesh terms in the database.\n",
      "There are now 3 coordinate spaces in the database.\n",
      "There are now 3 sexes in the database.\n",
      "There are now 4 handedness records in the database.\n",
      "There are now 7 connectomes in the database.\n",
      "There are now 36 statistic types in the database.\n",
      "There are now 2 dimensions in the database.\n",
      "There are now 11 modalities in the database.\n",
      "Parcellation with name 3209c91v already exists.\n"
     ]
    },
    {
     "name": "stderr",
     "output_type": "stream",
     "text": [
      "/Users/jt041/miniforge3/envs/django_env/lib/python3.12/site-packages/nilearn/maskers/nifti_masker.py:110: UserWarning: imgs are being resampled to the mask_img resolution. This process is memory intensive. You might want to provide a target_affine that is equal to the affine of the imgs or resample the mask beforehand to save memory and computation time.\n",
      "  warnings.warn(\n",
      "/Users/jt041/miniforge3/envs/django_env/lib/python3.12/site-packages/joblib/memory.py:312: UserWarning: Casting data from int32 to float32\n",
      "  return self.func(*args, **kwargs)\n"
     ]
    },
    {
     "name": "stdout",
     "output_type": "stream",
     "text": [
      "MapType 'Sensitivity Map (Overlap)' already exists. Skipping.\n",
      "MapType 'Average Map' already exists. Skipping.\n",
      "MapType 'Specificity Map' already exists. Skipping.\n",
      "There are now 3 MapTypes in the database.\n",
      "✅ Uploaded /Users/jt041/repos/lesionbank_new/sqlalchemy_utils/data/traininglevels/01/screenshot.png to S3 bucket 'lesionbucket' with key 'traininglevels/01/screenshot.png'.\n",
      "✅ Uploaded /Users/jt041/repos/lesionbank_new/sqlalchemy_utils/data/traininglevels/01/Baird_A.nii.gz to S3 bucket 'lesionbucket' with key 'traininglevels/01/Baird_A.nii.gz'.\n",
      "✅ Uploaded /Users/jt041/repos/lesionbank_new/sqlalchemy_utils/data/traininglevels/02/screenshot.png to S3 bucket 'lesionbucket' with key 'traininglevels/02/screenshot.png'.\n",
      "✅ Uploaded /Users/jt041/repos/lesionbank_new/sqlalchemy_utils/data/traininglevels/02/miller_A.nii.gz to S3 bucket 'lesionbucket' with key 'traininglevels/02/miller_A.nii.gz'.\n",
      "✅ Uploaded /Users/jt041/repos/lesionbank_new/sqlalchemy_utils/data/traininglevels/03/screenshot.png to S3 bucket 'lesionbucket' with key 'traininglevels/03/screenshot.png'.\n",
      "✅ Uploaded /Users/jt041/repos/lesionbank_new/sqlalchemy_utils/data/traininglevels/03/Ferreira-Garcia.nii.gz to S3 bucket 'lesionbucket' with key 'traininglevels/03/Ferreira-Garcia.nii.gz'.\n",
      "✅ Uploaded /Users/jt041/repos/lesionbank_new/sqlalchemy_utils/data/traininglevels/04/screenshot.png to S3 bucket 'lesionbucket' with key 'traininglevels/04/screenshot.png'.\n",
      "✅ Uploaded /Users/jt041/repos/lesionbank_new/sqlalchemy_utils/data/traininglevels/04/Ahmed.nii.gz to S3 bucket 'lesionbucket' with key 'traininglevels/04/Ahmed.nii.gz'.\n",
      "✅ Uploaded /Users/jt041/repos/lesionbank_new/sqlalchemy_utils/data/traininglevels/05/screenshot.png to S3 bucket 'lesionbucket' with key 'traininglevels/05/screenshot.png'.\n",
      "✅ Uploaded /Users/jt041/repos/lesionbank_new/sqlalchemy_utils/data/traininglevels/05/Curkovic2014.nii.gz to S3 bucket 'lesionbucket' with key 'traininglevels/05/Curkovic2014.nii.gz'.\n",
      "✅ Uploaded /Users/jt041/repos/lesionbank_new/sqlalchemy_utils/data/traininglevels/06/screenshot.png to S3 bucket 'lesionbucket' with key 'traininglevels/06/screenshot.png'.\n",
      "✅ Uploaded /Users/jt041/repos/lesionbank_new/sqlalchemy_utils/data/traininglevels/06/Azevedo_A.nii.gz to S3 bucket 'lesionbucket' with key 'traininglevels/06/Azevedo_A.nii.gz'.\n",
      "✅ Uploaded /Users/jt041/repos/lesionbank_new/sqlalchemy_utils/data/traininglevels/07/screenshot.png to S3 bucket 'lesionbucket' with key 'traininglevels/07/screenshot.png'.\n",
      "✅ Uploaded /Users/jt041/repos/lesionbank_new/sqlalchemy_utils/data/traininglevels/07/Guberman_1.nii.gz to S3 bucket 'lesionbucket' with key 'traininglevels/07/Guberman_1.nii.gz'.\n",
      "✅ Uploaded /Users/jt041/repos/lesionbank_new/sqlalchemy_utils/data/traininglevels/08/screenshot.png to S3 bucket 'lesionbucket' with key 'traininglevels/08/screenshot.png'.\n",
      "✅ Uploaded /Users/jt041/repos/lesionbank_new/sqlalchemy_utils/data/traininglevels/08/Grewal_A.nii.gz to S3 bucket 'lesionbucket' with key 'traininglevels/08/Grewal_A.nii.gz'.\n",
      "✅ Uploaded /Users/jt041/repos/lesionbank_new/sqlalchemy_utils/data/traininglevels/09/screenshot.png to S3 bucket 'lesionbucket' with key 'traininglevels/09/screenshot.png'.\n",
      "✅ Uploaded /Users/jt041/repos/lesionbank_new/sqlalchemy_utils/data/traininglevels/09/Goldberg_A.nii.gz to S3 bucket 'lesionbucket' with key 'traininglevels/09/Goldberg_A.nii.gz'.\n",
      "✅ Uploaded /Users/jt041/repos/lesionbank_new/sqlalchemy_utils/data/traininglevels/10/screenshot.png to S3 bucket 'lesionbucket' with key 'traininglevels/10/screenshot.png'.\n",
      "✅ Uploaded /Users/jt041/repos/lesionbank_new/sqlalchemy_utils/data/traininglevels/10/Speedie_A.nii.gz to S3 bucket 'lesionbucket' with key 'traininglevels/10/Speedie_A.nii.gz'.\n",
      "✅ There are now 10 levels in the database.\n"
     ]
    }
   ],
   "source": [
    "import os\n",
    "\n",
    "if os.getcwd().endswith('sqlalchemy_utils'):\n",
    "    os.chdir('..')\n",
    "\n",
    "from sqlalchemy_utils.db_session import get_session\n",
    "from sqlalchemy_utils import db_utils\n",
    "from sqlalchemy_utils.models_sqlalchemy_orm import Base, GroupLevelMapFile\n",
    "from sqlalchemy import text\n",
    "\n",
    "session = get_session()\n",
    "\n",
    "Base.metadata.create_all(session.get_bind())\n",
    "\n",
    "db_utils.insert_default_users('sqlalchemy_utils/data/default_users.json', session)\n",
    "db_utils.insert_causes_from_json('sqlalchemy_utils/data/causes.json', session, override_existing=True)\n",
    "db_utils.insert_domains_from_json('sqlalchemy_utils/data/domains.json', session)\n",
    "db_utils.insert_symptoms_from_json('sqlalchemy_utils/data/symptoms.json', session)\n",
    "db_utils.insert_coordinate_spaces_from_json('sqlalchemy_utils/data/coordinate_spaces.json', session)\n",
    "db_utils.insert_sexes_from_json('sqlalchemy_utils/data/sexes.json', session, override_existing=True)\n",
    "db_utils.insert_handedness_from_json('sqlalchemy_utils/data/handedness.json', session)\n",
    "db_utils.insert_connectomes_from_json('sqlalchemy_utils/data/connectomes.json', session)\n",
    "db_utils.insert_statistic_types_from_json('sqlalchemy_utils/data/statistic_types.json', session)\n",
    "db_utils.insert_dimensions_from_json('sqlalchemy_utils/data/dimensions.json', session)\n",
    "db_utils.insert_modalities_from_json('sqlalchemy_utils/data/imaging_modalities.json', session)\n",
    "db_utils.process_parcellation(db_utils.fetch_atlas_3209c91v(), session)\n",
    "db_utils.insert_map_types_from_json('sqlalchemy_utils/data/map_types.json', session)\n",
    "db_utils.insert_levels_from_json('sqlalchemy_utils/data/traininglevels/level_config.json', session)\n",
    "\n",
    "session.close()"
   ]
  },
  {
   "cell_type": "code",
   "execution_count": 1,
   "metadata": {},
   "outputs": [
    {
     "name": "stdout",
     "output_type": "stream",
     "text": [
      "✅ Dropped 'user_level_progress' table.\n",
      "✅ Dropped 'levels' table.\n",
      "✅ Recreated tables with updated schema.\n"
     ]
    }
   ],
   "source": [
    "# manage_levels.py\n",
    "\n",
    "import os\n",
    "\n",
    "# Adjust working directory if necessary\n",
    "if os.getcwd().endswith('sqlalchemy_utils'):\n",
    "    os.chdir('..')\n",
    "\n",
    "from sqlalchemy_utils.db_session import get_engine\n",
    "from sqlalchemy_utils.models_sqlalchemy_orm import Base, Level, UserLevelProgress\n",
    "from sqlalchemy import inspect\n",
    "\n",
    "def drop_tables(engine):\n",
    "    inspector = inspect(engine)\n",
    "    with engine.connect() as connection:\n",
    "        trans = connection.begin()\n",
    "        try:\n",
    "            # Drop 'user_level_progress' table if it exists\n",
    "            if 'user_level_progress' in inspector.get_table_names():\n",
    "                UserLevelProgress.__table__.drop(engine)\n",
    "                print(\"✅ Dropped 'user_level_progress' table.\")\n",
    "            else:\n",
    "                print(\"ℹ️  'user_level_progress' table does not exist. No need to drop.\")\n",
    "\n",
    "            # Drop 'levels' table if it exists\n",
    "            if 'levels' in inspector.get_table_names():\n",
    "                Level.__table__.drop(engine)\n",
    "                print(\"✅ Dropped 'levels' table.\")\n",
    "            else:\n",
    "                print(\"ℹ️  'levels' table does not exist. No need to drop.\")\n",
    "\n",
    "            # Commit the transaction\n",
    "            trans.commit()\n",
    "        except Exception as e:\n",
    "            trans.rollback()\n",
    "            print(f\"❌ Failed to drop tables: {e}\")\n",
    "\n",
    "def create_tables(engine):\n",
    "    try:\n",
    "        Base.metadata.create_all(engine, tables=[\n",
    "            Level.__table__,\n",
    "            UserLevelProgress.__table__\n",
    "        ])\n",
    "        print(\"✅ Recreated tables with updated schema.\")\n",
    "    except Exception as e:\n",
    "        print(f\"❌ Failed to create tables: {e}\")\n",
    "\n",
    "engine = get_engine()\n",
    "\n",
    "drop_tables(engine)\n",
    "create_tables(engine)"
   ]
  },
  {
   "cell_type": "markdown",
   "metadata": {},
   "source": [
    "**Update a table (say you have a new column in the table)**"
   ]
  },
  {
   "cell_type": "code",
   "execution_count": 4,
   "metadata": {},
   "outputs": [
    {
     "name": "stdout",
     "output_type": "stream",
     "text": [
      "ℹ️  'internal_use_only' column already exists in 'subjects' table. Dropping and recreating it.\n",
      "✅ Dropped 'internal_use_only' column from 'subjects' table.\n",
      "✅ Added 'internal_use_only' column to 'subjects' table.\n",
      "ℹ️  'internal_use_only' column already exists in 'symptoms' table. Dropping and recreating it.\n",
      "✅ Dropped 'internal_use_only' column from 'symptoms' table.\n",
      "✅ Added 'internal_use_only' column to 'symptoms' table.\n"
     ]
    }
   ],
   "source": [
    "# add_internal_use_only_column.py\n",
    "\n",
    "import os\n",
    "\n",
    "# Adjust working directory if necessary\n",
    "if os.getcwd().endswith('sqlalchemy_utils'):\n",
    "    os.chdir('..')\n",
    "\n",
    "from sqlalchemy_utils.db_session import get_engine\n",
    "from sqlalchemy import inspect, Column, Boolean, text\n",
    "from sqlalchemy.exc import OperationalError\n",
    "\n",
    "def add_internal_use_only_column(engine, table_name):\n",
    "    inspector = inspect(engine)\n",
    "    columns = inspector.get_columns(table_name)\n",
    "    column_names = [column['name'] for column in columns]\n",
    "    if 'internal_use_only' not in column_names:\n",
    "        # Column doesn't exist, add it\n",
    "        alter_stmt = f'ALTER TABLE {table_name} ADD COLUMN internal_use_only BOOLEAN DEFAULT FALSE'\n",
    "        alter_stmt = text(alter_stmt)\n",
    "        with engine.connect() as conn:\n",
    "            trans = conn.begin()\n",
    "            try:\n",
    "                conn.execute(alter_stmt)\n",
    "                trans.commit()\n",
    "                print(f\"✅ Added 'internal_use_only' column to '{table_name}' table.\")\n",
    "            except OperationalError as e:\n",
    "                trans.rollback()\n",
    "                print(f\"❌ Failed to add 'internal_use_only' column to '{table_name}' table: {e}\")\n",
    "    else:\n",
    "        print(f\"ℹ️  'internal_use_only' column already exists in '{table_name}' table. Dropping and recreating it.\")\n",
    "        alter_stmt = f'ALTER TABLE {table_name} DROP COLUMN internal_use_only'\n",
    "        alter_stmt = text(alter_stmt)\n",
    "        with engine.connect() as conn:\n",
    "            trans = conn.begin()\n",
    "            try:\n",
    "                conn.execute(alter_stmt)\n",
    "                trans.commit()\n",
    "                print(f\"✅ Dropped 'internal_use_only' column from '{table_name}' table.\")\n",
    "            except OperationalError as e:\n",
    "                trans.rollback()\n",
    "                print(f\"❌ Failed to drop 'internal_use_only' column from '{table_name}' table: {e}\")\n",
    "        add_internal_use_only_column(engine, table_name)\n",
    "\n",
    "engine = get_engine()\n",
    "\n",
    "add_internal_use_only_column(engine, 'subjects')\n",
    "add_internal_use_only_column(engine, 'symptoms')"
   ]
  }
 ],
 "metadata": {
  "kernelspec": {
   "display_name": "django_env",
   "language": "python",
   "name": "python3"
  },
  "language_info": {
   "codemirror_mode": {
    "name": "ipython",
    "version": 3
   },
   "file_extension": ".py",
   "mimetype": "text/x-python",
   "name": "python",
   "nbconvert_exporter": "python",
   "pygments_lexer": "ipython3",
   "version": "3.12.4"
  }
 },
 "nbformat": 4,
 "nbformat_minor": 2
}
